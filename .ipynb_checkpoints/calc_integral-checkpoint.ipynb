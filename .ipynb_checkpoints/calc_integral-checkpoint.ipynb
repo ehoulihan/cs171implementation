{
 "cells": [
  {
   "cell_type": "code",
   "execution_count": 27,
   "metadata": {
    "collapsed": false
   },
   "outputs": [],
   "source": [
    "import requests\n",
    "import pandas as pd\n",
    "import numpy as np\n",
    "import subprocess\n",
    "import pdb\n",
    "from dateutil.parser import parse\n",
    "import matplotlib.pyplot as plt\n",
    "from datetime import datetime\n",
    "%matplotlib inline  "
   ]
  },
  {
   "cell_type": "code",
   "execution_count": 28,
   "metadata": {
    "collapsed": false
   },
   "outputs": [],
   "source": [
    "path = \"data/discharge15s.csv\"\n",
    "df = pd.read_csv(path)\n",
    "df[\"timestamp\"] = map(lambda x : datetime.strptime(x, '%Y-%m-%d %H:%M'), df['timestamp'])"
   ]
  },
  {
   "cell_type": "code",
   "execution_count": 40,
   "metadata": {
    "collapsed": false
   },
   "outputs": [],
   "source": [
    "begin = datetime.strptime(\"2011-8-1\", '%Y-%m-%d')\n",
    "end = datetime.strptime(\"2011-10-20\", '%Y-%m-%d')"
   ]
  },
  {
   "cell_type": "code",
   "execution_count": 51,
   "metadata": {
    "collapsed": false
   },
   "outputs": [],
   "source": [
    "\n",
    "cleaned = df[(df['timestamp'] >= begin) & (df['timestamp'] <= end) & (df['discharge'] != 'Eqp')]\n"
   ]
  },
  {
   "cell_type": "code",
   "execution_count": 53,
   "metadata": {
    "collapsed": false
   },
   "outputs": [
    {
     "data": {
      "text/html": [
       "<div>\n",
       "<table border=\"1\" class=\"dataframe\">\n",
       "  <thead>\n",
       "    <tr style=\"text-align: right;\">\n",
       "      <th></th>\n",
       "      <th>Unnamed: 0</th>\n",
       "      <th>timestamp</th>\n",
       "      <th>discharge</th>\n",
       "    </tr>\n",
       "  </thead>\n",
       "  <tbody>\n",
       "    <tr>\n",
       "      <th>0</th>\n",
       "      <td>0</td>\n",
       "      <td>2011-08-06 00:00:00</td>\n",
       "      <td>967</td>\n",
       "    </tr>\n",
       "    <tr>\n",
       "      <th>1</th>\n",
       "      <td>1</td>\n",
       "      <td>2011-08-06 00:15:00</td>\n",
       "      <td>832</td>\n",
       "    </tr>\n",
       "    <tr>\n",
       "      <th>2</th>\n",
       "      <td>2</td>\n",
       "      <td>2011-08-06 00:30:00</td>\n",
       "      <td>764</td>\n",
       "    </tr>\n",
       "    <tr>\n",
       "      <th>3</th>\n",
       "      <td>3</td>\n",
       "      <td>2011-08-06 00:45:00</td>\n",
       "      <td>1030</td>\n",
       "    </tr>\n",
       "    <tr>\n",
       "      <th>4</th>\n",
       "      <td>4</td>\n",
       "      <td>2011-08-06 01:00:00</td>\n",
       "      <td>1640</td>\n",
       "    </tr>\n",
       "    <tr>\n",
       "      <th>5</th>\n",
       "      <td>5</td>\n",
       "      <td>2011-08-06 01:15:00</td>\n",
       "      <td>696</td>\n",
       "    </tr>\n",
       "    <tr>\n",
       "      <th>6</th>\n",
       "      <td>6</td>\n",
       "      <td>2011-08-06 01:30:00</td>\n",
       "      <td>427</td>\n",
       "    </tr>\n",
       "    <tr>\n",
       "      <th>7</th>\n",
       "      <td>7</td>\n",
       "      <td>2011-08-06 01:45:00</td>\n",
       "      <td>1030</td>\n",
       "    </tr>\n",
       "    <tr>\n",
       "      <th>8</th>\n",
       "      <td>8</td>\n",
       "      <td>2011-08-06 02:00:00</td>\n",
       "      <td>1770</td>\n",
       "    </tr>\n",
       "    <tr>\n",
       "      <th>9</th>\n",
       "      <td>9</td>\n",
       "      <td>2011-08-06 02:15:00</td>\n",
       "      <td>1640</td>\n",
       "    </tr>\n",
       "    <tr>\n",
       "      <th>10</th>\n",
       "      <td>10</td>\n",
       "      <td>2011-08-06 02:30:00</td>\n",
       "      <td>897</td>\n",
       "    </tr>\n",
       "    <tr>\n",
       "      <th>11</th>\n",
       "      <td>11</td>\n",
       "      <td>2011-08-06 02:45:00</td>\n",
       "      <td>95</td>\n",
       "    </tr>\n",
       "    <tr>\n",
       "      <th>12</th>\n",
       "      <td>12</td>\n",
       "      <td>2011-08-06 03:00:00</td>\n",
       "      <td>1230</td>\n",
       "    </tr>\n",
       "    <tr>\n",
       "      <th>13</th>\n",
       "      <td>13</td>\n",
       "      <td>2011-08-06 03:15:00</td>\n",
       "      <td>1640</td>\n",
       "    </tr>\n",
       "    <tr>\n",
       "      <th>14</th>\n",
       "      <td>14</td>\n",
       "      <td>2011-08-06 03:30:00</td>\n",
       "      <td>831</td>\n",
       "    </tr>\n",
       "    <tr>\n",
       "      <th>15</th>\n",
       "      <td>15</td>\n",
       "      <td>2011-08-06 03:45:00</td>\n",
       "      <td>2310</td>\n",
       "    </tr>\n",
       "    <tr>\n",
       "      <th>16</th>\n",
       "      <td>16</td>\n",
       "      <td>2011-08-06 04:00:00</td>\n",
       "      <td>2110</td>\n",
       "    </tr>\n",
       "    <tr>\n",
       "      <th>17</th>\n",
       "      <td>17</td>\n",
       "      <td>2011-08-06 04:15:00</td>\n",
       "      <td>1500</td>\n",
       "    </tr>\n",
       "    <tr>\n",
       "      <th>18</th>\n",
       "      <td>18</td>\n",
       "      <td>2011-08-06 04:30:00</td>\n",
       "      <td>427</td>\n",
       "    </tr>\n",
       "    <tr>\n",
       "      <th>19</th>\n",
       "      <td>19</td>\n",
       "      <td>2011-08-06 04:45:00</td>\n",
       "      <td>2110</td>\n",
       "    </tr>\n",
       "    <tr>\n",
       "      <th>20</th>\n",
       "      <td>20</td>\n",
       "      <td>2011-08-06 05:00:00</td>\n",
       "      <td>1170</td>\n",
       "    </tr>\n",
       "    <tr>\n",
       "      <th>21</th>\n",
       "      <td>21</td>\n",
       "      <td>2011-08-06 05:15:00</td>\n",
       "      <td>2850</td>\n",
       "    </tr>\n",
       "    <tr>\n",
       "      <th>22</th>\n",
       "      <td>22</td>\n",
       "      <td>2011-08-06 05:30:00</td>\n",
       "      <td>1370</td>\n",
       "    </tr>\n",
       "    <tr>\n",
       "      <th>23</th>\n",
       "      <td>23</td>\n",
       "      <td>2011-08-06 05:45:00</td>\n",
       "      <td>2310</td>\n",
       "    </tr>\n",
       "    <tr>\n",
       "      <th>24</th>\n",
       "      <td>24</td>\n",
       "      <td>2011-08-06 06:00:00</td>\n",
       "      <td>2380</td>\n",
       "    </tr>\n",
       "    <tr>\n",
       "      <th>25</th>\n",
       "      <td>25</td>\n",
       "      <td>2011-08-06 06:15:00</td>\n",
       "      <td>1570</td>\n",
       "    </tr>\n",
       "    <tr>\n",
       "      <th>26</th>\n",
       "      <td>26</td>\n",
       "      <td>2011-08-06 06:30:00</td>\n",
       "      <td>1370</td>\n",
       "    </tr>\n",
       "    <tr>\n",
       "      <th>27</th>\n",
       "      <td>27</td>\n",
       "      <td>2011-08-06 06:45:00</td>\n",
       "      <td>2510</td>\n",
       "    </tr>\n",
       "    <tr>\n",
       "      <th>28</th>\n",
       "      <td>28</td>\n",
       "      <td>2011-08-06 07:00:00</td>\n",
       "      <td>1440</td>\n",
       "    </tr>\n",
       "    <tr>\n",
       "      <th>29</th>\n",
       "      <td>29</td>\n",
       "      <td>2011-08-06 07:15:00</td>\n",
       "      <td>1780</td>\n",
       "    </tr>\n",
       "    <tr>\n",
       "      <th>...</th>\n",
       "      <td>...</td>\n",
       "      <td>...</td>\n",
       "      <td>...</td>\n",
       "    </tr>\n",
       "    <tr>\n",
       "      <th>10411</th>\n",
       "      <td>10411</td>\n",
       "      <td>2011-10-19 16:45:00</td>\n",
       "      <td>7180</td>\n",
       "    </tr>\n",
       "    <tr>\n",
       "      <th>10412</th>\n",
       "      <td>10412</td>\n",
       "      <td>2011-10-19 17:00:00</td>\n",
       "      <td>7280</td>\n",
       "    </tr>\n",
       "    <tr>\n",
       "      <th>10413</th>\n",
       "      <td>10413</td>\n",
       "      <td>2011-10-19 17:15:00</td>\n",
       "      <td>7550</td>\n",
       "    </tr>\n",
       "    <tr>\n",
       "      <th>10414</th>\n",
       "      <td>10414</td>\n",
       "      <td>2011-10-19 17:30:00</td>\n",
       "      <td>7440</td>\n",
       "    </tr>\n",
       "    <tr>\n",
       "      <th>10415</th>\n",
       "      <td>10415</td>\n",
       "      <td>2011-10-19 17:45:00</td>\n",
       "      <td>7270</td>\n",
       "    </tr>\n",
       "    <tr>\n",
       "      <th>10416</th>\n",
       "      <td>10416</td>\n",
       "      <td>2011-10-19 18:00:00</td>\n",
       "      <td>8650</td>\n",
       "    </tr>\n",
       "    <tr>\n",
       "      <th>10417</th>\n",
       "      <td>10417</td>\n",
       "      <td>2011-10-19 18:15:00</td>\n",
       "      <td>7470</td>\n",
       "    </tr>\n",
       "    <tr>\n",
       "      <th>10418</th>\n",
       "      <td>10418</td>\n",
       "      <td>2011-10-19 18:30:00</td>\n",
       "      <td>7700</td>\n",
       "    </tr>\n",
       "    <tr>\n",
       "      <th>10419</th>\n",
       "      <td>10419</td>\n",
       "      <td>2011-10-19 18:45:00</td>\n",
       "      <td>7960</td>\n",
       "    </tr>\n",
       "    <tr>\n",
       "      <th>10420</th>\n",
       "      <td>10420</td>\n",
       "      <td>2011-10-19 19:00:00</td>\n",
       "      <td>6960</td>\n",
       "    </tr>\n",
       "    <tr>\n",
       "      <th>10421</th>\n",
       "      <td>10421</td>\n",
       "      <td>2011-10-19 19:15:00</td>\n",
       "      <td>7790</td>\n",
       "    </tr>\n",
       "    <tr>\n",
       "      <th>10422</th>\n",
       "      <td>10422</td>\n",
       "      <td>2011-10-19 19:30:00</td>\n",
       "      <td>8620</td>\n",
       "    </tr>\n",
       "    <tr>\n",
       "      <th>10423</th>\n",
       "      <td>10423</td>\n",
       "      <td>2011-10-19 19:45:00</td>\n",
       "      <td>7560</td>\n",
       "    </tr>\n",
       "    <tr>\n",
       "      <th>10424</th>\n",
       "      <td>10424</td>\n",
       "      <td>2011-10-19 20:00:00</td>\n",
       "      <td>7890</td>\n",
       "    </tr>\n",
       "    <tr>\n",
       "      <th>10425</th>\n",
       "      <td>10425</td>\n",
       "      <td>2011-10-19 20:15:00</td>\n",
       "      <td>8390</td>\n",
       "    </tr>\n",
       "    <tr>\n",
       "      <th>10426</th>\n",
       "      <td>10426</td>\n",
       "      <td>2011-10-19 20:30:00</td>\n",
       "      <td>7670</td>\n",
       "    </tr>\n",
       "    <tr>\n",
       "      <th>10427</th>\n",
       "      <td>10427</td>\n",
       "      <td>2011-10-19 20:45:00</td>\n",
       "      <td>7670</td>\n",
       "    </tr>\n",
       "    <tr>\n",
       "      <th>10428</th>\n",
       "      <td>10428</td>\n",
       "      <td>2011-10-19 21:00:00</td>\n",
       "      <td>7380</td>\n",
       "    </tr>\n",
       "    <tr>\n",
       "      <th>10429</th>\n",
       "      <td>10429</td>\n",
       "      <td>2011-10-19 21:15:00</td>\n",
       "      <td>7220</td>\n",
       "    </tr>\n",
       "    <tr>\n",
       "      <th>10430</th>\n",
       "      <td>10430</td>\n",
       "      <td>2011-10-19 21:30:00</td>\n",
       "      <td>8540</td>\n",
       "    </tr>\n",
       "    <tr>\n",
       "      <th>10431</th>\n",
       "      <td>10431</td>\n",
       "      <td>2011-10-19 21:45:00</td>\n",
       "      <td>8540</td>\n",
       "    </tr>\n",
       "    <tr>\n",
       "      <th>10432</th>\n",
       "      <td>10432</td>\n",
       "      <td>2011-10-19 22:00:00</td>\n",
       "      <td>8040</td>\n",
       "    </tr>\n",
       "    <tr>\n",
       "      <th>10433</th>\n",
       "      <td>10433</td>\n",
       "      <td>2011-10-19 22:15:00</td>\n",
       "      <td>8040</td>\n",
       "    </tr>\n",
       "    <tr>\n",
       "      <th>10434</th>\n",
       "      <td>10434</td>\n",
       "      <td>2011-10-19 22:30:00</td>\n",
       "      <td>7200</td>\n",
       "    </tr>\n",
       "    <tr>\n",
       "      <th>10435</th>\n",
       "      <td>10435</td>\n",
       "      <td>2011-10-19 22:45:00</td>\n",
       "      <td>8530</td>\n",
       "    </tr>\n",
       "    <tr>\n",
       "      <th>10436</th>\n",
       "      <td>10436</td>\n",
       "      <td>2011-10-19 23:00:00</td>\n",
       "      <td>8140</td>\n",
       "    </tr>\n",
       "    <tr>\n",
       "      <th>10437</th>\n",
       "      <td>10437</td>\n",
       "      <td>2011-10-19 23:15:00</td>\n",
       "      <td>7750</td>\n",
       "    </tr>\n",
       "    <tr>\n",
       "      <th>10438</th>\n",
       "      <td>10438</td>\n",
       "      <td>2011-10-19 23:30:00</td>\n",
       "      <td>7530</td>\n",
       "    </tr>\n",
       "    <tr>\n",
       "      <th>10439</th>\n",
       "      <td>10439</td>\n",
       "      <td>2011-10-19 23:45:00</td>\n",
       "      <td>7530</td>\n",
       "    </tr>\n",
       "    <tr>\n",
       "      <th>10440</th>\n",
       "      <td>10440</td>\n",
       "      <td>2011-10-20 00:00:00</td>\n",
       "      <td>7630</td>\n",
       "    </tr>\n",
       "  </tbody>\n",
       "</table>\n",
       "<p>10441 rows × 3 columns</p>\n",
       "</div>"
      ],
      "text/plain": [
       "       Unnamed: 0           timestamp discharge\n",
       "0               0 2011-08-06 00:00:00       967\n",
       "1               1 2011-08-06 00:15:00       832\n",
       "2               2 2011-08-06 00:30:00       764\n",
       "3               3 2011-08-06 00:45:00      1030\n",
       "4               4 2011-08-06 01:00:00      1640\n",
       "5               5 2011-08-06 01:15:00       696\n",
       "6               6 2011-08-06 01:30:00       427\n",
       "7               7 2011-08-06 01:45:00      1030\n",
       "8               8 2011-08-06 02:00:00      1770\n",
       "9               9 2011-08-06 02:15:00      1640\n",
       "10             10 2011-08-06 02:30:00       897\n",
       "11             11 2011-08-06 02:45:00        95\n",
       "12             12 2011-08-06 03:00:00      1230\n",
       "13             13 2011-08-06 03:15:00      1640\n",
       "14             14 2011-08-06 03:30:00       831\n",
       "15             15 2011-08-06 03:45:00      2310\n",
       "16             16 2011-08-06 04:00:00      2110\n",
       "17             17 2011-08-06 04:15:00      1500\n",
       "18             18 2011-08-06 04:30:00       427\n",
       "19             19 2011-08-06 04:45:00      2110\n",
       "20             20 2011-08-06 05:00:00      1170\n",
       "21             21 2011-08-06 05:15:00      2850\n",
       "22             22 2011-08-06 05:30:00      1370\n",
       "23             23 2011-08-06 05:45:00      2310\n",
       "24             24 2011-08-06 06:00:00      2380\n",
       "25             25 2011-08-06 06:15:00      1570\n",
       "26             26 2011-08-06 06:30:00      1370\n",
       "27             27 2011-08-06 06:45:00      2510\n",
       "28             28 2011-08-06 07:00:00      1440\n",
       "29             29 2011-08-06 07:15:00      1780\n",
       "...           ...                 ...       ...\n",
       "10411       10411 2011-10-19 16:45:00      7180\n",
       "10412       10412 2011-10-19 17:00:00      7280\n",
       "10413       10413 2011-10-19 17:15:00      7550\n",
       "10414       10414 2011-10-19 17:30:00      7440\n",
       "10415       10415 2011-10-19 17:45:00      7270\n",
       "10416       10416 2011-10-19 18:00:00      8650\n",
       "10417       10417 2011-10-19 18:15:00      7470\n",
       "10418       10418 2011-10-19 18:30:00      7700\n",
       "10419       10419 2011-10-19 18:45:00      7960\n",
       "10420       10420 2011-10-19 19:00:00      6960\n",
       "10421       10421 2011-10-19 19:15:00      7790\n",
       "10422       10422 2011-10-19 19:30:00      8620\n",
       "10423       10423 2011-10-19 19:45:00      7560\n",
       "10424       10424 2011-10-19 20:00:00      7890\n",
       "10425       10425 2011-10-19 20:15:00      8390\n",
       "10426       10426 2011-10-19 20:30:00      7670\n",
       "10427       10427 2011-10-19 20:45:00      7670\n",
       "10428       10428 2011-10-19 21:00:00      7380\n",
       "10429       10429 2011-10-19 21:15:00      7220\n",
       "10430       10430 2011-10-19 21:30:00      8540\n",
       "10431       10431 2011-10-19 21:45:00      8540\n",
       "10432       10432 2011-10-19 22:00:00      8040\n",
       "10433       10433 2011-10-19 22:15:00      8040\n",
       "10434       10434 2011-10-19 22:30:00      7200\n",
       "10435       10435 2011-10-19 22:45:00      8530\n",
       "10436       10436 2011-10-19 23:00:00      8140\n",
       "10437       10437 2011-10-19 23:15:00      7750\n",
       "10438       10438 2011-10-19 23:30:00      7530\n",
       "10439       10439 2011-10-19 23:45:00      7530\n",
       "10440       10440 2011-10-20 00:00:00      7630\n",
       "\n",
       "[10441 rows x 3 columns]"
      ]
     },
     "execution_count": 53,
     "metadata": {},
     "output_type": "execute_result"
    }
   ],
   "source": [
    "cleaned"
   ]
  },
  {
   "cell_type": "code",
   "execution_count": 54,
   "metadata": {
    "collapsed": false
   },
   "outputs": [],
   "source": [
    "discharge = np.array(cleaned['discharge'])"
   ]
  },
  {
   "cell_type": "code",
   "execution_count": 57,
   "metadata": {
    "collapsed": false
   },
   "outputs": [],
   "source": [
    "discharge = [int(x) for x in discharge]"
   ]
  },
  {
   "cell_type": "code",
   "execution_count": 84,
   "metadata": {
    "collapsed": false
   },
   "outputs": [],
   "source": [
    "areas2 = [discharge[0] * 15]\n",
    "for i in range(1, len(discharge)):\n",
    "    areas2 += [areas[i - 1] + discharge[i] * 15]"
   ]
  },
  {
   "cell_type": "code",
   "execution_count": 85,
   "metadata": {
    "collapsed": true
   },
   "outputs": [],
   "source": [
    "areas = []\n",
    "for i in range(0, len(discharge)):\n",
    "    areas += [np.trapz(discharge[:i], dx=15)]"
   ]
  },
  {
   "cell_type": "code",
   "execution_count": 86,
   "metadata": {
    "collapsed": false
   },
   "outputs": [
    {
     "data": {
      "text/plain": [
       "2080246807.5"
      ]
     },
     "execution_count": 86,
     "metadata": {},
     "output_type": "execute_result"
    }
   ],
   "source": [
    "areas[len(areas)-2]"
   ]
  },
  {
   "cell_type": "code",
   "execution_count": 87,
   "metadata": {
    "collapsed": false
   },
   "outputs": [
    {
     "data": {
      "text/plain": [
       "[<matplotlib.lines.Line2D at 0x13270208>]"
      ]
     },
     "execution_count": 87,
     "metadata": {},
     "output_type": "execute_result"
    },
    {
     "data": {
      "image/png": "[encoded data removed]",
      "text/plain": [
       "<matplotlib.figure.Figure at 0x12a0e6a0>"
      ]
     },
     "metadata": {},
     "output_type": "display_data"
    }
   ],
   "source": [
    "plt.plot(areas)"
   ]
  },
  {
   "cell_type": "code",
   "execution_count": 88,
   "metadata": {
    "collapsed": false
   },
   "outputs": [
    {
     "data": {
      "text/plain": [
       "[<matplotlib.lines.Line2D at 0x12d92d68>]"
      ]
     },
     "execution_count": 88,
     "metadata": {},
     "output_type": "execute_result"
    },
    {
     "data": {
      "image/png": "[encoded data removed]",
      "text/plain": [
       "<matplotlib.figure.Figure at 0x1327fe80>"
      ]
     },
     "metadata": {},
     "output_type": "display_data"
    }
   ],
   "source": [
    "plt.plot(areas2)"
   ]
  },
  {
   "cell_type": "code",
   "execution_count": 89,
   "metadata": {
    "collapsed": false
   },
   "outputs": [
    {
     "name": "stderr",
     "output_type": "stream",
     "text": [
      "C:\\Users\\Emily\\Anaconda2\\lib\\site-packages\\ipykernel\\__main__.py:1: SettingWithCopyWarning: \n",
      "A value is trying to be set on a copy of a slice from a DataFrame.\n",
      "Try using .loc[row_indexer,col_indexer] = value instead\n",
      "\n",
      "See the caveats in the documentation: http://pandas.pydata.org/pandas-docs/stable/indexing.html#indexing-view-versus-copy\n",
      "  if __name__ == '__main__':\n"
     ]
    }
   ],
   "source": [
    "cleaned['volume'] = areas"
   ]
  },
  {
   "cell_type": "code",
   "execution_count": 90,
   "metadata": {
    "collapsed": false
   },
   "outputs": [],
   "source": [
    "cleaned.to_csv(\"data/discharge_with_volume.csv\")\n"
   ]
  },
  {
   "cell_type": "code",
   "execution_count": 72,
   "metadata": {
    "collapsed": false
   },
   "outputs": [
    {
     "data": {
      "text/plain": [
       "52.5"
      ]
     },
     "execution_count": 72,
     "metadata": {},
     "output_type": "execute_result"
    }
   ],
   "source": []
  },
  {
   "cell_type": "code",
   "execution_count": null,
   "metadata": {
    "collapsed": true
   },
   "outputs": [],
   "source": []
  }
 ],
 "metadata": {
  "kernelspec": {
   "display_name": "Python 2",
   "language": "python",
   "name": "python2"
  },
  "language_info": {
   "codemirror_mode": {
    "name": "ipython",
    "version": 2
   },
   "file_extension": ".py",
   "mimetype": "text/x-python",
   "name": "python",
   "nbconvert_exporter": "python",
   "pygments_lexer": "ipython2",
   "version": "2.7.11"
  }
 },
 "nbformat": 4,
 "nbformat_minor": 0
}
