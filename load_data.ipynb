{
 "cells": [
  {
   "cell_type": "code",
   "execution_count": 2,
   "metadata": {
    "collapsed": true
   },
   "outputs": [],
   "source": [
    "import requests\n",
    "import pandas as pd\n",
    "import numpy as np\n",
    "import uncurl\n",
    "import subprocess\n",
    "import pdb"
   ]
  },
  {
   "cell_type": "code",
   "execution_count": 1,
   "metadata": {
    "collapsed": true
   },
   "outputs": [],
   "source": [
    "path2 = \"/Users/jackiemartinez/Downloads/discharge15seconds.txt\""
   ]
  },
  {
   "cell_type": "code",
   "execution_count": 7,
   "metadata": {
    "collapsed": false
   },
   "outputs": [],
   "source": [
    "import numpy as np\n",
    "path = \"/Users/jackiemartinez/Downloads/gageheight.txt\"\n",
    "d = np.loadtxt(path,skiprows=4)\n"
   ]
  },
  {
   "cell_type": "code",
   "execution_count": 9,
   "metadata": {
    "collapsed": false
   },
   "outputs": [
    {
     "data": {
      "text/plain": [
       "array([  2.01100000e+03,   8.00000000e+00,   1.00000000e+00,\n",
       "         3.00000000e+01,   1.19900000e+01])"
      ]
     },
     "execution_count": 9,
     "metadata": {},
     "output_type": "execute_result"
    }
   ],
   "source": [
    "d[1]"
   ]
  },
  {
   "cell_type": "code",
   "execution_count": 9,
   "metadata": {
    "collapsed": false
   },
   "outputs": [],
   "source": [
    "##d = np.loadtxt(path2,skiprows=28)\n",
    "\n",
    "d = pd.read_table(path2, skiprows=26)"
   ]
  },
  {
   "cell_type": "code",
   "execution_count": 12,
   "metadata": {
    "collapsed": false
   },
   "outputs": [],
   "source": [
    "df = d[['20d','14n']]\n",
    "df.columns = ['timestamp','discharge']\n",
    "df.to_csv(\"discharge15s.csv\")"
   ]
  },
  {
   "cell_type": "code",
   "execution_count": 13,
   "metadata": {
    "collapsed": false
   },
   "outputs": [
    {
     "name": "stdout",
     "output_type": "stream",
     "text": [
      "README            discharge15s.csv  gageheight.csv    index.html\r\n",
      "\u001b[1m\u001b[34mcss\u001b[m\u001b[m/              elevation.csv     hello.txt         \u001b[1m\u001b[34mjs\u001b[m\u001b[m/\r\n",
      "\u001b[1m\u001b[34mdata\u001b[m\u001b[m/             \u001b[1m\u001b[34mflood_vis\u001b[m\u001b[m/        \u001b[1m\u001b[34mimg\u001b[m\u001b[m/              load_data.ipynb\r\n"
     ]
    }
   ],
   "source": [
    "ls"
   ]
  },
  {
   "cell_type": "code",
   "execution_count": null,
   "metadata": {
    "collapsed": true
   },
   "outputs": [],
   "source": []
  }
 ],
 "metadata": {
  "kernelspec": {
   "display_name": "Python 2",
   "language": "python",
   "name": "python2"
  },
  "language_info": {
   "codemirror_mode": {
    "name": "ipython",
    "version": 2
   },
   "file_extension": ".py",
   "mimetype": "text/x-python",
   "name": "python",
   "nbconvert_exporter": "python",
   "pygments_lexer": "ipython2",
   "version": "2.7.11"
  }
 },
 "nbformat": 4,
 "nbformat_minor": 0
}
